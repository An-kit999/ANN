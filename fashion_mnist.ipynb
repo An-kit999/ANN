{
  "nbformat": 4,
  "nbformat_minor": 0,
  "metadata": {
    "colab": {
      "provenance": []
    },
    "kernelspec": {
      "name": "python3",
      "display_name": "Python 3"
    },
    "language_info": {
      "name": "python"
    }
  },
  "cells": [
    {
      "cell_type": "code",
      "execution_count": null,
      "metadata": {
        "id": "GF8OEFPI2oBX"
      },
      "outputs": [],
      "source": [
        "import tensorflow as tf\n",
        "from tensorflow import keras"
      ]
    },
    {
      "cell_type": "markdown",
      "source": [
        "print(tf.__version__)"
      ],
      "metadata": {
        "id": "B-BTkbrs3GRc"
      }
    },
    {
      "cell_type": "code",
      "source": [
        "(X_train_full, y_train_full), (X_test, y_test) = fashion_mnist.load_data()"
      ],
      "metadata": {
        "collapsed": true,
        "id": "X2rtnrgk4toX"
      },
      "execution_count": null,
      "outputs": []
    },
    {
      "cell_type": "code",
      "source": [
        "fashion_mnist = keras.datasets.fashion_mnist\n"
      ],
      "metadata": {
        "collapsed": true,
        "id": "lZ9cD2mQ3Mm5"
      },
      "execution_count": null,
      "outputs": []
    },
    {
      "cell_type": "code",
      "source": [
        "X_train_full.shape"
      ],
      "metadata": {
        "colab": {
          "base_uri": "https://localhost:8080/"
        },
        "id": "wPcDzt4T5JCN",
        "outputId": "d5047b90-1ea5-4d72-889e-e91467c782f5"
      },
      "execution_count": null,
      "outputs": [
        {
          "output_type": "execute_result",
          "data": {
            "text/plain": [
              "(60000, 28, 28)"
            ]
          },
          "metadata": {},
          "execution_count": 7
        }
      ]
    },
    {
      "cell_type": "code",
      "source": [
        "y_train_full.shape"
      ],
      "metadata": {
        "colab": {
          "base_uri": "https://localhost:8080/"
        },
        "id": "wXI7YUFI5Ow3",
        "outputId": "76fc2c37-2994-47d4-9759-002489bab5a4"
      },
      "execution_count": null,
      "outputs": [
        {
          "output_type": "execute_result",
          "data": {
            "text/plain": [
              "(60000,)"
            ]
          },
          "metadata": {},
          "execution_count": 8
        }
      ]
    },
    {
      "cell_type": "code",
      "source": [
        "X_valid, X_train = X_train_full[:5000]/255.0, X_train_full[5000:]/255.0\n",
        "y_valid, y_train = y_train_full[:5000], y_train_full[5000:]"
      ],
      "metadata": {
        "id": "NPKAgOG6K_H_"
      },
      "execution_count": null,
      "outputs": []
    },
    {
      "cell_type": "code",
      "source": [
        "# creating a model with sequential API\n",
        "model = keras.models.Sequential()\n",
        "model.add(keras.layers.Flatten(input_shape = [28, 28]))\n",
        "model.add(keras.layers.Dense(300, activation = \"relu\"))\n",
        "model.add(keras.layers.Dense(100, activation = \"relu\"))\n",
        "model.add(keras.layers.Dense(10, activation = \"softmax\"))\n"
      ],
      "metadata": {
        "id": "-UAsY6qdGrLT"
      },
      "execution_count": null,
      "outputs": []
    },
    {
      "cell_type": "code",
      "source": [
        "model.summary()"
      ],
      "metadata": {
        "colab": {
          "base_uri": "https://localhost:8080/"
        },
        "id": "GyEkhkzEKdiP",
        "outputId": "03acadbf-c50b-4cbb-b051-c2720c4975af"
      },
      "execution_count": null,
      "outputs": [
        {
          "output_type": "stream",
          "name": "stdout",
          "text": [
            "Model: \"sequential\"\n",
            "_________________________________________________________________\n",
            " Layer (type)                Output Shape              Param #   \n",
            "=================================================================\n",
            " flatten (Flatten)           (None, 784)               0         \n",
            "                                                                 \n",
            " dense (Dense)               (None, 300)               235500    \n",
            "                                                                 \n",
            " dense_1 (Dense)             (None, 100)               30100     \n",
            "                                                                 \n",
            " dense_2 (Dense)             (None, 10)                1010      \n",
            "                                                                 \n",
            "=================================================================\n",
            "Total params: 266610 (1.02 MB)\n",
            "Trainable params: 266610 (1.02 MB)\n",
            "Non-trainable params: 0 (0.00 Byte)\n",
            "_________________________________________________________________\n"
          ]
        }
      ]
    },
    {
      "cell_type": "code",
      "source": [
        "hidden1 = model.layers[1]\n",
        "weights, biases = hidden1.get_weights()"
      ],
      "metadata": {
        "id": "G_h9Lgo3K9IU"
      },
      "execution_count": null,
      "outputs": []
    },
    {
      "cell_type": "code",
      "source": [
        "# compile the model using loss function and optimizer\n",
        "model.compile(loss = keras.losses.sparse_categorical_crossentropy, optimizer=keras.optimizers.SGD(), metrics=[\"accuracy\"])"
      ],
      "metadata": {
        "id": "VeCs6Cb-LmFV"
      },
      "execution_count": null,
      "outputs": []
    },
    {
      "cell_type": "code",
      "source": [
        "history = model.fit(X_train, y_train, epochs=27, validation_data = (X_valid, y_valid))"
      ],
      "metadata": {
        "colab": {
          "base_uri": "https://localhost:8080/"
        },
        "id": "wwTc9727ROZh",
        "outputId": "51773904-8ab9-44a8-a058-1b06e715551a"
      },
      "execution_count": null,
      "outputs": [
        {
          "output_type": "stream",
          "name": "stdout",
          "text": [
            "Epoch 1/27\n",
            "1719/1719 [==============================] - 10s 6ms/step - loss: 0.4120 - accuracy: 0.8537 - val_loss: 0.3932 - val_accuracy: 0.8612\n",
            "Epoch 2/27\n",
            "1719/1719 [==============================] - 10s 6ms/step - loss: 0.3931 - accuracy: 0.8606 - val_loss: 0.3755 - val_accuracy: 0.8714\n",
            "Epoch 3/27\n",
            "1719/1719 [==============================] - 8s 5ms/step - loss: 0.3772 - accuracy: 0.8657 - val_loss: 0.3684 - val_accuracy: 0.8712\n",
            "Epoch 4/27\n",
            "1719/1719 [==============================] - 10s 6ms/step - loss: 0.3626 - accuracy: 0.8700 - val_loss: 0.3564 - val_accuracy: 0.8762\n",
            "Epoch 5/27\n",
            "1719/1719 [==============================] - 12s 7ms/step - loss: 0.3513 - accuracy: 0.8759 - val_loss: 0.3459 - val_accuracy: 0.8776\n",
            "Epoch 6/27\n",
            "1719/1719 [==============================] - 9s 5ms/step - loss: 0.3405 - accuracy: 0.8782 - val_loss: 0.3470 - val_accuracy: 0.8770\n",
            "Epoch 7/27\n",
            "1719/1719 [==============================] - 9s 5ms/step - loss: 0.3313 - accuracy: 0.8814 - val_loss: 0.3478 - val_accuracy: 0.8766\n",
            "Epoch 8/27\n",
            "1719/1719 [==============================] - 10s 6ms/step - loss: 0.3227 - accuracy: 0.8844 - val_loss: 0.3367 - val_accuracy: 0.8812\n",
            "Epoch 9/27\n",
            "1719/1719 [==============================] - 11s 6ms/step - loss: 0.3141 - accuracy: 0.8876 - val_loss: 0.3437 - val_accuracy: 0.8806\n",
            "Epoch 10/27\n",
            "1719/1719 [==============================] - 8s 5ms/step - loss: 0.3080 - accuracy: 0.8900 - val_loss: 0.3304 - val_accuracy: 0.8816\n",
            "Epoch 11/27\n",
            "1719/1719 [==============================] - 10s 6ms/step - loss: 0.3013 - accuracy: 0.8927 - val_loss: 0.3188 - val_accuracy: 0.8878\n",
            "Epoch 12/27\n",
            "1719/1719 [==============================] - 10s 6ms/step - loss: 0.2941 - accuracy: 0.8939 - val_loss: 0.3315 - val_accuracy: 0.8794\n",
            "Epoch 13/27\n",
            "1719/1719 [==============================] - 8s 5ms/step - loss: 0.2880 - accuracy: 0.8963 - val_loss: 0.3215 - val_accuracy: 0.8866\n",
            "Epoch 14/27\n",
            "1719/1719 [==============================] - 10s 6ms/step - loss: 0.2826 - accuracy: 0.8987 - val_loss: 0.3329 - val_accuracy: 0.8798\n",
            "Epoch 15/27\n",
            "1719/1719 [==============================] - 9s 5ms/step - loss: 0.2767 - accuracy: 0.9000 - val_loss: 0.3080 - val_accuracy: 0.8892\n",
            "Epoch 16/27\n",
            "1719/1719 [==============================] - 10s 6ms/step - loss: 0.2725 - accuracy: 0.9011 - val_loss: 0.3100 - val_accuracy: 0.8862\n",
            "Epoch 17/27\n",
            "1719/1719 [==============================] - 8s 5ms/step - loss: 0.2671 - accuracy: 0.9034 - val_loss: 0.3040 - val_accuracy: 0.8944\n",
            "Epoch 18/27\n",
            "1719/1719 [==============================] - 10s 6ms/step - loss: 0.2625 - accuracy: 0.9049 - val_loss: 0.3033 - val_accuracy: 0.8882\n",
            "Epoch 19/27\n",
            "1719/1719 [==============================] - 10s 6ms/step - loss: 0.2572 - accuracy: 0.9067 - val_loss: 0.3117 - val_accuracy: 0.8844\n",
            "Epoch 20/27\n",
            "1719/1719 [==============================] - 8s 5ms/step - loss: 0.2534 - accuracy: 0.9098 - val_loss: 0.3030 - val_accuracy: 0.8878\n",
            "Epoch 21/27\n",
            "1719/1719 [==============================] - 9s 5ms/step - loss: 0.2469 - accuracy: 0.9112 - val_loss: 0.3177 - val_accuracy: 0.8842\n",
            "Epoch 22/27\n",
            "1719/1719 [==============================] - 10s 6ms/step - loss: 0.2445 - accuracy: 0.9125 - val_loss: 0.3078 - val_accuracy: 0.8850\n",
            "Epoch 23/27\n",
            "1719/1719 [==============================] - 11s 7ms/step - loss: 0.2404 - accuracy: 0.9133 - val_loss: 0.2982 - val_accuracy: 0.8914\n",
            "Epoch 24/27\n",
            "1719/1719 [==============================] - 9s 5ms/step - loss: 0.2352 - accuracy: 0.9154 - val_loss: 0.2964 - val_accuracy: 0.8916\n",
            "Epoch 25/27\n",
            "1719/1719 [==============================] - 10s 6ms/step - loss: 0.2314 - accuracy: 0.9161 - val_loss: 0.3000 - val_accuracy: 0.8894\n",
            "Epoch 26/27\n",
            "1719/1719 [==============================] - 10s 6ms/step - loss: 0.2283 - accuracy: 0.9176 - val_loss: 0.3026 - val_accuracy: 0.8872\n",
            "Epoch 27/27\n",
            "1719/1719 [==============================] - 9s 5ms/step - loss: 0.2239 - accuracy: 0.9198 - val_loss: 0.2961 - val_accuracy: 0.8958\n"
          ]
        }
      ]
    },
    {
      "cell_type": "code",
      "source": [],
      "metadata": {
        "id": "B0K5aoN020xE"
      },
      "execution_count": null,
      "outputs": []
    },
    {
      "cell_type": "code",
      "source": [
        "import pandas as pd\n",
        "import matplotlib.pyplot as plt\n",
        "pd.DataFrame(history.history).plot()\n",
        "plt.grid(True)\n",
        "plt.gca().set_ylim(0,1)\n",
        "plt.show()"
      ],
      "metadata": {
        "colab": {
          "base_uri": "https://localhost:8080/",
          "height": 435
        },
        "id": "kp2DHHoeTYVX",
        "outputId": "c6570e77-9aa2-41fa-9bda-f7acc1bd0ac3"
      },
      "execution_count": null,
      "outputs": [
        {
          "output_type": "display_data",
          "data": {
            "text/plain": [
              "<Figure size 640x480 with 1 Axes>"
            ],
            "image/png": "[encoded data removed]"
          },
          "metadata": {}
        }
      ]
    },
    {
      "cell_type": "code",
      "source": [
        "model.evaluate(X_test, y_test)"
      ],
      "metadata": {
        "colab": {
          "base_uri": "https://localhost:8080/"
        },
        "id": "jNFGobh4VQhc",
        "outputId": "21f9f23a-998f-4d5e-9937-15cf543cf8ad"
      },
      "execution_count": null,
      "outputs": [
        {
          "output_type": "stream",
          "name": "stdout",
          "text": [
            "313/313 [==============================] - 1s 3ms/step - loss: 71.2423 - accuracy: 0.8353\n"
          ]
        },
        {
          "output_type": "execute_result",
          "data": {
            "text/plain": [
              "[71.24230194091797, 0.8353000283241272]"
            ]
          },
          "metadata": {},
          "execution_count": 17
        }
      ]
    },
    {
      "cell_type": "code",
      "source": [
        "import numpy as np"
      ],
      "metadata": {
        "id": "WHZemDSRZp-a"
      },
      "execution_count": null,
      "outputs": []
    },
    {
      "cell_type": "code",
      "source": [
        "X_new = X_test[:10]\n",
        "y_proba = model.predict(X_new)\n",
        "y_proba.round(2)"
      ],
      "metadata": {
        "colab": {
          "base_uri": "https://localhost:8080/"
        },
        "id": "pC7lk_iZXe0d",
        "outputId": "63a4c596-e255-4dca-8486-6496f2fbaff0"
      },
      "execution_count": null,
      "outputs": [
        {
          "output_type": "stream",
          "name": "stdout",
          "text": [
            "1/1 [==============================] - 1s 592ms/step\n"
          ]
        },
        {
          "output_type": "execute_result",
          "data": {
            "text/plain": [
              "array([[0., 0., 0., 0., 0., 0., 0., 0., 0., 1.],\n",
              "       [0., 0., 1., 0., 0., 0., 0., 0., 0., 0.],\n",
              "       [0., 1., 0., 0., 0., 0., 0., 0., 0., 0.],\n",
              "       [0., 1., 0., 0., 0., 0., 0., 0., 0., 0.],\n",
              "       [0., 0., 0., 0., 0., 0., 1., 0., 0., 0.],\n",
              "       [0., 1., 0., 0., 0., 0., 0., 0., 0., 0.],\n",
              "       [0., 0., 0., 0., 1., 0., 0., 0., 0., 0.],\n",
              "       [0., 0., 0., 0., 0., 0., 1., 0., 0., 0.],\n",
              "       [0., 0., 0., 0., 0., 1., 0., 0., 0., 0.],\n",
              "       [0., 0., 0., 0., 0., 0., 0., 1., 0., 0.]], dtype=float32)"
            ]
          },
          "metadata": {},
          "execution_count": 19
        }
      ]
    },
    {
      "cell_type": "code",
      "source": [
        "plt.imshow(X_test[4], cmap=\"gray\")\n",
        "plt.show()"
      ],
      "metadata": {
        "colab": {
          "base_uri": "https://localhost:8080/",
          "height": 430
        },
        "id": "DPbCeBRFaeza",
        "outputId": "c2690545-f953-4dc1-c0c6-bb0dac9f47d5"
      },
      "execution_count": null,
      "outputs": [
        {
          "output_type": "display_data",
          "data": {
            "text/plain": [
              "<Figure size 640x480 with 1 Axes>"
            ],
            "image/png": "[encoded data removed]"
          },
          "metadata": {}
        }
      ]
    }
  ]
}